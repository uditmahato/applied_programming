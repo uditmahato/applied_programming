{
 "cells": [
  {
   "cell_type": "code",
   "execution_count": 14,
   "metadata": {},
   "outputs": [
    {
     "name": "stdout",
     "output_type": "stream",
     "text": [
      "[[['nep', 100], ['eng', 10]], [['nepali', 45], ['eng', 60]]]\n"
     ]
    }
   ],
   "source": [
    "list=[]\n",
    "n=int(input(\"enter the number of students: \"))\n",
    "for i in range(n):\n",
    "    list.append([])\n",
    "    for j in range(2):\n",
    "        list[i].append([input(\"enter subject name: \"),int(input(\"enter subject mark: \"))])\n",
    "\n",
    "\n",
    "\n",
    "print(list)"
   ]
  },
  {
   "cell_type": "code",
   "execution_count": 15,
   "metadata": {},
   "outputs": [
    {
     "name": "stdout",
     "output_type": "stream",
     "text": [
      "110\n",
      "105\n"
     ]
    }
   ],
   "source": [
    "for i in range(2):\n",
    "    totalmarks=0\n",
    "    for j in range(n):\n",
    "        totalmarks=totalmarks+list[i][j][1]\n",
    "    print(totalmarks)"
   ]
  },
  {
   "cell_type": "code",
   "execution_count": 21,
   "metadata": {},
   "outputs": [
    {
     "name": "stdout",
     "output_type": "stream",
     "text": [
      "2\n"
     ]
    }
   ],
   "source": [
    "print(len(list))"
   ]
  },
  {
   "cell_type": "code",
   "execution_count": 20,
   "metadata": {},
   "outputs": [
    {
     "name": "stdout",
     "output_type": "stream",
     "text": [
      "nep\t\t100\n",
      "eng\t\t10\n"
     ]
    }
   ],
   "source": [
    "#to print subject name and marks\n",
    "i=int(input(\"Enter the number that you want to print\"))-1\n",
    "for j in range(2):\n",
    "    print(f\"{list[i][j][0]}\\t\\t{list[i][j][1]}\")"
   ]
  },
  {
   "cell_type": "code",
   "execution_count": null,
   "metadata": {},
   "outputs": [],
   "source": []
  }
 ],
 "metadata": {
  "kernelspec": {
   "display_name": "Python 3",
   "language": "python",
   "name": "python3"
  },
  "language_info": {
   "codemirror_mode": {
    "name": "ipython",
    "version": 3
   },
   "file_extension": ".py",
   "mimetype": "text/x-python",
   "name": "python",
   "nbconvert_exporter": "python",
   "pygments_lexer": "ipython3",
   "version": "3.8.10"
  },
  "orig_nbformat": 4,
  "vscode": {
   "interpreter": {
    "hash": "916dbcbb3f70747c44a77c7bcd40155683ae19c65e1c03b4aa3499c5328201f1"
   }
  }
 },
 "nbformat": 4,
 "nbformat_minor": 2
}
